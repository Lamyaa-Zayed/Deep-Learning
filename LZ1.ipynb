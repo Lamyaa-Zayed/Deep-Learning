{
  "nbformat": 4,
  "nbformat_minor": 0,
  "metadata": {
    "colab": {
      "name": "LZ1.ipynb",
      "provenance": [],
      "collapsed_sections": [],
      "toc_visible": true
    },
    "kernelspec": {
      "name": "python3",
      "display_name": "Python 3"
    }
  },
  "cells": [
    {
      "cell_type": "code",
      "metadata": {
        "colab": {
          "base_uri": "https://localhost:8080/"
        },
        "id": "KziD2huFpgsi",
        "outputId": "73ceb4e9-986f-46c2-bb50-606bf1f13a42"
      },
      "source": [
        "import numpy as np\r\n",
        "print (\"Hello!\")"
      ],
      "execution_count": 1,
      "outputs": [
        {
          "output_type": "stream",
          "text": [
            "Hello!\n"
          ],
          "name": "stdout"
        }
      ]
    },
    {
      "cell_type": "markdown",
      "metadata": {
        "id": "hZLYZgS-rOqm"
      },
      "source": [
        "Hello this is Lamyaa the creator of this demo."
      ]
    },
    {
      "cell_type": "code",
      "metadata": {
        "colab": {
          "base_uri": "https://localhost:8080/"
        },
        "id": "Yvr3yS_rrajZ",
        "outputId": "80afb56d-7fb3-4f22-b4e0-d7570555839f"
      },
      "source": [
        "print(\"Lamyaa\")"
      ],
      "execution_count": 2,
      "outputs": [
        {
          "output_type": "stream",
          "text": [
            "Lamyaa\n"
          ],
          "name": "stdout"
        }
      ]
    },
    {
      "cell_type": "markdown",
      "metadata": {
        "id": "f73JbSJZsDk1"
      },
      "source": [
        "\r\n",
        "\r\n",
        "```\r\n",
        "# This is formatted as code\r\n",
        "```\r\n",
        "\r\n"
      ]
    },
    {
      "cell_type": "code",
      "metadata": {
        "colab": {
          "base_uri": "https://localhost:8080/"
        },
        "id": "j-pgo571tdWz",
        "outputId": "284aafec-cb54-4b8e-ac66-9a743996f53a"
      },
      "source": [
        "!pip install numpy\r\n",
        "import numpy as np\r\n",
        "#define array of np's\r\n",
        "my_array=np.array([10,20,30,40],dtype=np.float64)\r\n",
        "print(my_array.dtype)"
      ],
      "execution_count": 21,
      "outputs": [
        {
          "output_type": "stream",
          "text": [
            "Requirement already satisfied: numpy in /usr/local/lib/python3.7/dist-packages (1.19.5)\n",
            "float64\n"
          ],
          "name": "stdout"
        }
      ]
    },
    {
      "cell_type": "code",
      "metadata": {
        "colab": {
          "base_uri": "https://localhost:8080/"
        },
        "id": "HJKxjhrTumTQ",
        "outputId": "6a343f4a-aee1-4e9e-dbbb-2e5f6fa79339"
      },
      "source": [
        "print(my_array)\r\n",
        "print(type(my_array))\r\n",
        "print(my_array.shape)\r\n",
        "print(my_array.dtype)"
      ],
      "execution_count": 22,
      "outputs": [
        {
          "output_type": "stream",
          "text": [
            "[10. 20. 30. 40.]\n",
            "<class 'numpy.ndarray'>\n",
            "(4,)\n",
            "float64\n"
          ],
          "name": "stdout"
        }
      ]
    },
    {
      "cell_type": "code",
      "metadata": {
        "colab": {
          "base_uri": "https://localhost:8080/"
        },
        "id": "rqjtqgDOz3i3",
        "outputId": "cb590f17-74e4-4410-c693-9b6b1314fa99"
      },
      "source": [
        "my_array[0]=15\r\n",
        "print(my_array[0])\r\n",
        "print(my_array)"
      ],
      "execution_count": 5,
      "outputs": [
        {
          "output_type": "stream",
          "text": [
            "15\n",
            "[15 20 30 40]\n"
          ],
          "name": "stdout"
        }
      ]
    },
    {
      "cell_type": "code",
      "metadata": {
        "colab": {
          "base_uri": "https://localhost:8080/"
        },
        "id": "WNtOa1VX0jgw",
        "outputId": "307c78a7-14ea-4291-9760-67fb779d32d2"
      },
      "source": [
        "import numpy as np\r\n",
        "array2=np.array([[10,20,30,40],[100,200,300,400]])\r\n",
        "print(array2)\r\n",
        "print(type(array2))\r\n",
        "print(array2.shape)\r\n",
        "#print(my_array[0:2])\r\n",
        "print(\"new array=\",array2[0:1])\r\n",
        "print(array2[1:2,1:2])"
      ],
      "execution_count": 7,
      "outputs": [
        {
          "output_type": "stream",
          "text": [
            "[[ 10  20  30  40]\n",
            " [100 200 300 400]]\n",
            "<class 'numpy.ndarray'>\n",
            "(2, 4)\n",
            "new array= [[10 20 30 40]]\n",
            "[[200]]\n"
          ],
          "name": "stdout"
        }
      ]
    },
    {
      "cell_type": "code",
      "metadata": {
        "colab": {
          "base_uri": "https://localhost:8080/"
        },
        "id": "nRCezGUZ41Mn",
        "outputId": "7a3608e9-4561-4d80-c577-08118419385a"
      },
      "source": [
        "import numpy as np\r\n",
        "zero_array=np.zeros([3,3])\r\n",
        "print(\"zeros=\",zero_array)\r\n",
        "ones_array=np.ones([3,3])\r\n",
        "print(\"ones=\",ones_array)\r\n",
        "const_array=np.full([3,3],5)\r\n",
        "print(\"const=\",const_array)\r\n",
        "identity_array=np.eye(3)\r\n",
        "print(\"identity=\",identity_array)\r\n",
        "random_array=np.random.random([3,3])\r\n",
        "print(\"random=\",random_array)\r\n",
        "print(random_array.dtype)\r\n",
        "print(identity_array.dtype)\r\n",
        "print(const_array.dtype)"
      ],
      "execution_count": 19,
      "outputs": [
        {
          "output_type": "stream",
          "text": [
            "zeros= [[0. 0. 0.]\n",
            " [0. 0. 0.]\n",
            " [0. 0. 0.]]\n",
            "ones= [[1. 1. 1.]\n",
            " [1. 1. 1.]\n",
            " [1. 1. 1.]]\n",
            "const= [[5 5 5]\n",
            " [5 5 5]\n",
            " [5 5 5]]\n",
            "identity= [[1. 0. 0.]\n",
            " [0. 1. 0.]\n",
            " [0. 0. 1.]]\n",
            "random= [[0.63679324 0.03925843 0.91728203]\n",
            " [0.49657925 0.88428987 0.23404905]\n",
            " [0.85554946 0.72359176 0.79773878]]\n",
            "float64\n",
            "float64\n",
            "int64\n"
          ],
          "name": "stdout"
        }
      ]
    },
    {
      "cell_type": "code",
      "metadata": {
        "colab": {
          "base_uri": "https://localhost:8080/"
        },
        "id": "3k8utXCE98J3",
        "outputId": "1d6363bb-ac5a-4847-bc10-f5dab996d6b6"
      },
      "source": [
        "x=np.array([[1,2,3],[4,5,6]])\r\n",
        "y=np.array([[10,20,30],[40,50,60]])\r\n",
        "print(\"x=\",x,\"\\n y=\",y)\r\n",
        "print(\"x+y=\",np.add(x,y))\r\n",
        "print(\"y-x=\",np.subtract(y,x))\r\n",
        "print(\"x*y=\",np.multiply(x,y))\r\n",
        "print(\"x/y=\",np.divide(x,y))\r\n",
        "print(\"sqrt(x)=\",np.sqrt(x))"
      ],
      "execution_count": 36,
      "outputs": [
        {
          "output_type": "stream",
          "text": [
            "x= [[1 2 3]\n",
            " [4 5 6]] \n",
            " y= [[10 20 30]\n",
            " [40 50 60]]\n",
            "x+y= [[11 22 33]\n",
            " [44 55 66]]\n",
            "y-x= [[ 9 18 27]\n",
            " [36 45 54]]\n",
            "x*y= [[ 10  40  90]\n",
            " [160 250 360]]\n",
            "x/y= [[0.1 0.1 0.1]\n",
            " [0.1 0.1 0.1]]\n",
            "sqrt(x)= [[1.         1.41421356 1.73205081]\n",
            " [2.         2.23606798 2.44948974]]\n"
          ],
          "name": "stdout"
        }
      ]
    },
    {
      "cell_type": "code",
      "metadata": {
        "colab": {
          "base_uri": "https://localhost:8080/"
        },
        "id": "j99OE006Adm4",
        "outputId": "c5eac5b0-b210-4d23-8c81-19f946204253"
      },
      "source": [
        "#dot product\r\n",
        "x=np.array([[1,2],[3,4]])\r\n",
        "y=np.array([[5,6],[7,8]])\r\n",
        "print(\"x=\",x,\"\\n y=\",y)\r\n",
        "v=np.array([9,10])\r\n",
        "w=np.array([11,12])\r\n",
        "print(\"dot1=\",x.dot(v))\r\n",
        "print(\"dot2=\",y.dot(w))\r\n",
        "print(\"dot3=\",x.dot(y))\r\n",
        "print(\"x_transpose=\",x.T)\r\n",
        "vv=np.tile(v,[4,1])\r\n",
        "print(\"vv_broadcasting=\",vv)"
      ],
      "execution_count": 46,
      "outputs": [
        {
          "output_type": "stream",
          "text": [
            "x= [[1 2]\n",
            " [3 4]] \n",
            " y= [[5 6]\n",
            " [7 8]]\n",
            "dot1= [29 67]\n",
            "dot2= [127 173]\n",
            "dot3= [[19 22]\n",
            " [43 50]]\n",
            "x_transpose= [[1 3]\n",
            " [2 4]]\n",
            "vv_broadcasting= [[ 9 10]\n",
            " [ 9 10]\n",
            " [ 9 10]\n",
            " [ 9 10]]\n"
          ],
          "name": "stdout"
        }
      ]
    },
    {
      "cell_type": "code",
      "metadata": {
        "id": "476IQj7fCR83"
      },
      "source": [
        ""
      ],
      "execution_count": null,
      "outputs": []
    }
  ]
}