{
  "nbformat": 4,
  "nbformat_minor": 0,
  "metadata": {
    "colab": {
      "name": "LZ2.ipynb",
      "provenance": [],
      "collapsed_sections": []
    },
    "kernelspec": {
      "name": "python3",
      "display_name": "Python 3"
    }
  },
  "cells": [
    {
      "cell_type": "code",
      "metadata": {
        "colab": {
          "base_uri": "https://localhost:8080/",
          "height": 177
        },
        "id": "eqYzFFISbKpm",
        "outputId": "2052f7e7-04c8-4e2b-94d7-638dc111f984"
      },
      "source": [
        "#matplotlib\r\n",
        "import numpy as np\r\n",
        "import matplotlib.pyplot as plt\r\n",
        "x=np.arange(0,3*np.pi,0.1)\r\n",
        "y_sin=np.sin(x)\r\n",
        "y_cos=np.cos(x)\r\n",
        "plt.subplot(2,1,1) #height,width(1:half signal),1st activate plot\r\n",
        "plt.plot(x,y_sin)\r\n",
        "plt.plot(x,y_cos)\r\n",
        "plt.title(\"sine and cosine curves\")\r\n",
        "plt.legend([\"sine\",'cosine'])\r\n",
        "plt.xlabel('x axis')\r\n",
        "plt.ylabel(\"y axis\")\r\n",
        "\r\n",
        "plt.show()"
      ],
      "execution_count": 11,
      "outputs": [
        {
          "output_type": "display_data",
          "data": {
            "image/png": "[encoded data removed]",
            "text/plain": [
              "<Figure size 432x288 with 1 Axes>"
            ]
          },
          "metadata": {
            "tags": [],
            "needs_background": "light"
          }
        }
      ]
    },
    {
      "cell_type": "code",
      "metadata": {
        "colab": {
          "base_uri": "https://localhost:8080/"
        },
        "id": "z8aFl9Are4vf",
        "outputId": "ed94f1a1-84a5-4b15-e832-2ee4de5470b3"
      },
      "source": [
        "#scipy\r\n",
        "#from scipy.misc import imread , imresize , imsave\r\n",
        "!pip3 install pillow\r\n",
        "!pip3 install scipy==1.1.0"
      ],
      "execution_count": 1,
      "outputs": [
        {
          "output_type": "stream",
          "text": [
            "Requirement already satisfied: pillow in /usr/local/lib/python3.7/dist-packages (7.0.0)\n",
            "Requirement already satisfied: scipy==1.1.0 in /usr/local/lib/python3.7/dist-packages (1.1.0)\n",
            "Requirement already satisfied: numpy>=1.8.2 in /usr/local/lib/python3.7/dist-packages (from scipy==1.1.0) (1.19.5)\n"
          ],
          "name": "stdout"
        }
      ]
    },
    {
      "cell_type": "code",
      "metadata": {
        "colab": {
          "base_uri": "https://localhost:8080/"
        },
        "id": "4k2cfmgwg0rY",
        "outputId": "1a2c9b99-a39e-432b-c57a-a7b68031a732"
      },
      "source": [
        "#scipy\r\n",
        "from scipy.misc import imread , imresize , imsave\r\n",
        "img = imread('/content/OE.png')\r\n",
        "print(img.dtype)\r\n",
        "print(img.shape)\r\n",
        "img_tinted=imresize(img,(100,100))\r\n",
        "print(img_tinted.dtype)\r\n",
        "print(img_tinted.shape)\r\n",
        "imsave('/content/OE_tinted.png',img_tinted)\r\n",
        "img_colored=img*[1,0.9,0.8]  #channels of RGB Red,Green,Blue factors\r\n",
        "imsave('/content/OE_colored.png',img_colored)\r\n"
      ],
      "execution_count": 10,
      "outputs": [
        {
          "output_type": "stream",
          "text": [
            "uint8\n",
            "(513, 857, 3)\n",
            "uint8\n",
            "(100, 100, 3)\n"
          ],
          "name": "stdout"
        },
        {
          "output_type": "stream",
          "text": [
            "/usr/local/lib/python3.7/dist-packages/ipykernel_launcher.py:3: DeprecationWarning:     `imread` is deprecated!\n",
            "    `imread` is deprecated in SciPy 1.0.0, and will be removed in 1.2.0.\n",
            "    Use ``imageio.imread`` instead.\n",
            "  This is separate from the ipykernel package so we can avoid doing imports until\n",
            "/usr/local/lib/python3.7/dist-packages/ipykernel_launcher.py:6: DeprecationWarning:     `imresize` is deprecated!\n",
            "    `imresize` is deprecated in SciPy 1.0.0, and will be removed in 1.2.0.\n",
            "    Use ``skimage.transform.resize`` instead.\n",
            "  \n",
            "/usr/local/lib/python3.7/dist-packages/ipykernel_launcher.py:9: DeprecationWarning:     `imsave` is deprecated!\n",
            "    `imsave` is deprecated in SciPy 1.0.0, and will be removed in 1.2.0.\n",
            "    Use ``imageio.imwrite`` instead.\n",
            "  if __name__ == '__main__':\n",
            "/usr/local/lib/python3.7/dist-packages/ipykernel_launcher.py:11: DeprecationWarning:     `imsave` is deprecated!\n",
            "    `imsave` is deprecated in SciPy 1.0.0, and will be removed in 1.2.0.\n",
            "    Use ``imageio.imwrite`` instead.\n",
            "  # This is added back by InteractiveShellApp.init_path()\n"
          ],
          "name": "stderr"
        }
      ]
    },
    {
      "cell_type": "code",
      "metadata": {
        "colab": {
          "base_uri": "https://localhost:8080/"
        },
        "id": "OsiQuyjwkNN5",
        "outputId": "8423ee2c-f9a8-43ae-9eaa-2b747fdefaae"
      },
      "source": [
        "#tenserflow\r\n",
        "import tensorflow as tf\r\n",
        "a=2\r\n",
        "b=3\r\n",
        "c=tf.add(a,b,name='add')\r\n",
        "print(c)"
      ],
      "execution_count": 14,
      "outputs": [
        {
          "output_type": "stream",
          "text": [
            "tf.Tensor(5, shape=(), dtype=int32)\n"
          ],
          "name": "stdout"
        }
      ]
    },
    {
      "cell_type": "code",
      "metadata": {
        "colab": {
          "base_uri": "https://localhost:8080/"
        },
        "id": "qik9EYnFnTHt",
        "outputId": "8f491bc0-5f16-45b9-8a3a-dca04aa91aa3"
      },
      "source": [
        "#tenserflow\r\n",
        "add_op=tf.add(a,b,name=\"add\")\r\n",
        "mul_op=tf.multiply(a,b,name=\"multiply\")\r\n",
        "pow_op=tf.pow(add_op,mul_op,name=\"power\")\r\n",
        "print(pow_op)\r\n",
        "#with tf.session() as sess:\r\n",
        "  #pout=sess.run(pow_op)\r\n",
        "  #print(pout)"
      ],
      "execution_count": 16,
      "outputs": [
        {
          "output_type": "stream",
          "text": [
            "tf.Tensor(15625, shape=(), dtype=int32)\n"
          ],
          "name": "stdout"
        }
      ]
    }
  ]
}